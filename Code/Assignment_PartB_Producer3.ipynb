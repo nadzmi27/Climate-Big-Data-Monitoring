{
 "cells": [
  {
   "cell_type": "code",
   "execution_count": 25,
   "id": "a318ae18",
   "metadata": {},
   "outputs": [],
   "source": [
    "# Import library\n",
    "import time\n",
    "import datetime\n",
    "from random import randint\n",
    "from kafka3 import KafkaProducer\n",
    "import pandas as pd\n",
    "import pymongo\n",
    "from pymongo import MongoClient\n",
    "import json"
   ]
  },
  {
   "cell_type": "code",
   "execution_count": 26,
   "id": "6463bde1",
   "metadata": {},
   "outputs": [],
   "source": [
    "# Load TERRA streaming data\n",
    "terra_streaming = pd.read_csv('../Datasets/hotspot_TERRA_streaming.csv')"
   ]
  },
  {
   "cell_type": "code",
   "execution_count": 27,
   "id": "3ba93d8e",
   "metadata": {},
   "outputs": [],
   "source": [
    "# Change the ip address to host ip address\n",
    "ip_address = \"192.168.224.1\""
   ]
  },
  {
   "cell_type": "code",
   "execution_count": 28,
   "id": "5d078440",
   "metadata": {},
   "outputs": [],
   "source": [
    "# Get Latest Climate Date\n",
    "client = MongoClient(ip_address, 27017) \n",
    "db = client['A3_db'] # Using A3_db\n",
    "fire_collection = db['fire_historic'] # Using collection fire_historic\n",
    "response = fire_collection.find({},{'date':1}).sort('date',-1).limit(1) # Get latest document\n",
    "latest_time = response[0]['date']"
   ]
  },
  {
   "cell_type": "code",
   "execution_count": 29,
   "id": "45cf9a13",
   "metadata": {},
   "outputs": [],
   "source": [
    "# Function to turn string into ISO date\n",
    "def date_to_iso(date, date_format='%d/%m/%Y'):\n",
    "    return datetime.strptime(str(date), date_format)\n",
    "\n",
    "# Map function to value, if error is raised return None\n",
    "# If value is classified as null also return None\n",
    "def val_or_null(value, func, null=None):\n",
    "    try:\n",
    "        value = func(value)\n",
    "        if value == null:\n",
    "            return None\n",
    "        else:\n",
    "            return value\n",
    "    except:\n",
    "        return None"
   ]
  },
  {
   "cell_type": "code",
   "execution_count": 30,
   "id": "b3913f65",
   "metadata": {},
   "outputs": [],
   "source": [
    "def publish_message(producer_instance, topic_name, message):\n",
    "    try:\n",
    "        data = message.encode('utf-8')\n",
    "        producer_instance.send(topic_name, data)\n",
    "        producer_instance.flush()\n",
    "        print('Message published successfully. Data:\\n ' + str(data) + '\\n')\n",
    "    except Exception as ex:\n",
    "        print('Exception in publishing message.')\n",
    "        print(str(ex))"
   ]
  },
  {
   "cell_type": "code",
   "execution_count": 32,
   "id": "0d87fdff",
   "metadata": {},
   "outputs": [
    {
     "ename": "SyntaxError",
     "evalue": "invalid syntax (777968473.py, line 12)",
     "output_type": "error",
     "traceback": [
      "\u001b[0;36m  Cell \u001b[0;32mIn[32], line 12\u001b[0;36m\u001b[0m\n\u001b[0;31m    data and send messages to Kafka topic\u001b[0m\n\u001b[0m                  ^\u001b[0m\n\u001b[0;31mSyntaxError\u001b[0m\u001b[0;31m:\u001b[0m invalid syntax\n"
     ]
    }
   ],
   "source": [
    "# Create Kafka producer\n",
    "producer = KafkaProducer(bootstrap_servers=f'{ip_address}:9092', \n",
    "                         api_version=(0, 10))\n",
    "\n",
    "# We will make the data being send every 1/5 days + some random minutes (within 1/5 days)\n",
    "# This to ensure the hotspot data being send is scattered across different hours\n",
    "minute_window = (60*24)/5 # Number of minutes in a day / number of time hotspot data being daily\n",
    "\n",
    "event_time = latest_time\n",
    "\n",
    "# Iterate over the TERRA data and send messages to Kafka topic\n",
    "while True:\n",
    "    # Select row with replacement\n",
    "    row = terra_streaming.sample(n=1, replace=True) \n",
    "    \n",
    "    # Increment created_time event_time (1/5 day) + some random minutes\n",
    "    created_time = pd.to_datetime(event_time) + datetime.timedelta(minutes=randint(0,minute_window))\n",
    "    created_date = created_time.strftime(\"%Y/%m/%d\") # Convert date to string\n",
    "    created_time = created_time.strftime(\"%Y/%m/%d %H:%M:%S\") # Convert datetime to string\n",
    "    event_time = event_time + datetime.timedelta(days=1/5) # Increment event_time by 1/5 day \n",
    "    \n",
    "    # Get the value for everything. Get null if value is invalid\n",
    "    latitude = val_or_null(row.latitude, float)\n",
    "    longitude = val_or_null(row.longitude, float)\n",
    "    confidence = val_or_null(row.confidence, float)\n",
    "    surface_temperature = val_or_null(row.surface_temperature_celcius, float)\n",
    "\n",
    "    # Produce the document\n",
    "    document = {\n",
    "        'date': created_date,\n",
    "        'datetime': created_time,\n",
    "        'latitude': latitude,\n",
    "        'longitude': longitude,\n",
    "        'confidence': confidence,\n",
    "        'surface_temperature': surface_temperature,\n",
    "        'producer': 'Producer3'\n",
    "    }\n",
    "    \n",
    "    # Convert dict (document) into json\n",
    "    message = json.dumps(document)\n",
    "    \n",
    "    # Send message to Kafka topic\n",
    "    publish_message(producer, 'hotspot_topic', message)\n",
    "    \n",
    "    # Sleep for 2 seconds (1/5 day)\n",
    "    time.sleep(2)"
   ]
  },
  {
   "cell_type": "code",
   "execution_count": null,
   "id": "e514b5db",
   "metadata": {},
   "outputs": [],
   "source": []
  }
 ],
 "metadata": {
  "kernelspec": {
   "display_name": "Python 3 (ipykernel)",
   "language": "python",
   "name": "python3"
  },
  "language_info": {
   "codemirror_mode": {
    "name": "ipython",
    "version": 3
   },
   "file_extension": ".py",
   "mimetype": "text/x-python",
   "name": "python",
   "nbconvert_exporter": "python",
   "pygments_lexer": "ipython3",
   "version": "3.8.16"
  }
 },
 "nbformat": 4,
 "nbformat_minor": 5
}
